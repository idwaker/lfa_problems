{
 "cells": [
  {
   "cell_type": "code",
   "execution_count": 3,
   "metadata": {
    "collapsed": false
   },
   "outputs": [
    {
     "name": "stdout",
     "output_type": "stream",
     "text": [
      "4\n",
      "Guess a number between 1 to 10.1\n",
      "Ummm you are near, go on have a guess again. w\n",
      "Enter any number not a string.\n",
      "Wana have a try again ?y\n",
      "4\n",
      "Guess a number between 1 to 10.\n",
      "Enter any number not a string.\n",
      "Wana have a try again ?y\n",
      "3\n",
      "Guess a number between 1 to 10.22\n",
      "Oh you are far this time, please have a guess again. 8\n",
      "Oh you are far this time, please have a guess again. 9\n",
      "Oh you are far this time, please have a guess again. 0\n",
      "Oopssss! Your Chance finished. You loss the Game. The answer is = 3\n",
      "Wana have a try again ?n\n",
      "Its fun wid U. See U soon :P\n"
     ]
    }
   ],
   "source": [
    "import random\n",
    "\n",
    "def chk(x):\n",
    "        try:\n",
    "            x = float(x)\n",
    "        except ValueError:\n",
    "            print(\"Enter any number not a string.\")\n",
    "            diff = -1\n",
    "        else: \n",
    "            if randnum >= x:\n",
    "                diff = randnum - x\n",
    "            else:\n",
    "                diff = x - randnum\n",
    "        finally:\n",
    "            return diff\n",
    "\n",
    "tryagain = 'y'\n",
    "while tryagain == 'y':\n",
    "    chance = 4\n",
    "    diff = None\n",
    "    randnum = random.randint(1,10)\n",
    "    print(randnum)\n",
    "\n",
    "    while chance > 0:\n",
    "        if chance == 4:\n",
    "            x = input(\"Guess a number between 1 to 10.\")\n",
    "        else:\n",
    "            if diff < 4:\n",
    "                x = input(\"Ummm you are near, go on have a guess again. \")\n",
    "            elif diff >= 4:\n",
    "                x = input(\"Oh you are far this time, please have a guess again. \")\n",
    "        diff = chk(x)\n",
    "        if diff == -1:\n",
    "            tryagain = input(\"Wana have a try again ?\")\n",
    "            break\n",
    "        if diff == 0:\n",
    "            print(\"Congratulation you won.\")\n",
    "            tryagain = input(\"Wana have a try again ?\")\n",
    "            break\n",
    "        else:\n",
    "            chance -= 1\n",
    "            if chance == 0 and diff != 0:\n",
    "                print(\"Oopssss! Your Chance finished. You loss the Game. The answer is = %d\"%randnum)\n",
    "\n",
    "    else:\n",
    "        tryagain = input(\"Wana have a try again ?\")\n",
    "else:\n",
    "    print(\"Its fun wid U. See U soon :P\")"
   ]
  },
  {
   "cell_type": "code",
   "execution_count": null,
   "metadata": {
    "collapsed": true
   },
   "outputs": [],
   "source": []
  }
 ],
 "metadata": {
  "kernelspec": {
   "display_name": "Python 3",
   "language": "python",
   "name": "python3"
  },
  "language_info": {
   "codemirror_mode": {
    "name": "ipython",
    "version": 3
   },
   "file_extension": ".py",
   "mimetype": "text/x-python",
   "name": "python",
   "nbconvert_exporter": "python",
   "pygments_lexer": "ipython3",
   "version": "3.5.1"
  }
 },
 "nbformat": 4,
 "nbformat_minor": 0
}
