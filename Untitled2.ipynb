{
 "cells": [
  {
   "cell_type": "code",
   "execution_count": null,
   "metadata": {
    "collapsed": false
   },
   "outputs": [],
   "source": [
    "import random\n",
    "\n",
    "def askfor():\n",
    "    if chance == 0:\n",
    "        x = input(\"Guess a number between 1 to 10.\")\n",
    "    else:\n",
    "        if diff == 0:\n",
    "            print(\"Congratulation you won.\")\n",
    "        elif diff <= 4:\n",
    "            x = input(\"Ummm you are near, go on have a guess again.\")\n",
    "        elif diff > 4:\n",
    "            x = input(\"Oh you are far this time, please have a guess again.\")\n",
    "            \n",
    "    \n",
    "    if randnum >= int(x):\n",
    "        diff = randnum - int(x)\n",
    "    else:\n",
    "        diff = int(x) - randnum\n",
    "        \n",
    "    chance += 1\n",
    "    \n",
    "        \n",
    "chance = 0\n",
    "diff = None\n",
    "randnum = random.randint(1,10)\n",
    "\n",
    "while chance < 5:\n",
    "    askfor()\n",
    "else:\n",
    "    print(\"Finished\")"
   ]
  },
  {
   "cell_type": "code",
   "execution_count": null,
   "metadata": {
    "collapsed": true
   },
   "outputs": [],
   "source": [
    "import random\n",
    "\n",
    "def askfor():\n",
    "    if chance == 0:\n",
    "        x = input(\"Guess a number between 1 to 10.\")\n",
    "    else:\n",
    "        if diff == 0:\n",
    "            print(\"Congratulation you won.\")\n",
    "        elif diff <= 4:\n",
    "            x = input(\"Ummm you are near, go on have a guess again.\")\n",
    "        elif diff > 4:\n",
    "            x = input(\"Oh you are far this time, please have a guess again.\")\n",
    "            \n",
    "    \n",
    "    if randnum >= int(x):\n",
    "        diff = randnum - int(x)\n",
    "    else:\n",
    "        diff = int(x) - randnum\n",
    "        \n",
    "    chance += 1\n",
    "    \n",
    "        \n",
    "chance = 0\n",
    "diff = None\n",
    "randnum = random.randint(1,10)\n",
    "\n",
    "while chance < 5:\n",
    "    askfor()\n",
    "else:\n",
    "    print(\"Finished\")"
   ]
  },
  {
   "cell_type": "code",
   "execution_count": null,
   "metadata": {
    "collapsed": true
   },
   "outputs": [],
   "source": []
  }
 ],
 "metadata": {
  "kernelspec": {
   "display_name": "Python 3",
   "language": "python",
   "name": "python3"
  },
  "language_info": {
   "codemirror_mode": {
    "name": "ipython",
    "version": 3
   },
   "file_extension": ".py",
   "mimetype": "text/x-python",
   "name": "python",
   "nbconvert_exporter": "python",
   "pygments_lexer": "ipython3",
   "version": "3.5.1"
  }
 },
 "nbformat": 4,
 "nbformat_minor": 0
}
