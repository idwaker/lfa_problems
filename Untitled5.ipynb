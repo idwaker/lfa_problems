{
 "cells": [
  {
   "cell_type": "code",
   "execution_count": null,
   "metadata": {
    "collapsed": false
   },
   "outputs": [],
   "source": [
    "import random\n",
    "\n",
    "\n",
    "tryagain = 'y'\n",
    "print(randnum)\n",
    "while tryagain == 'y':\n",
    "    chance = 4\n",
    "    diff = None\n",
    "    randnum = random.randint(1,10)\n",
    "    while chance > 0:\n",
    "        if chance == 4:\n",
    "            x = input(\"Guess a number between 1 to 10.\")\n",
    "        else:\n",
    "            if diff == 0:\n",
    "                print(\"Congratulation you won.\")\n",
    "                chance == 0\n",
    "            elif diff < 4:\n",
    "                x = input(\"Ummm you are near, go on have a guess again. \")\n",
    "            elif diff >= 4:\n",
    "                x = input(\"Oh you are far this time, please have a guess again. \")\n",
    "        if randnum >= int(x):\n",
    "            diff = randnum - int(x)\n",
    "        else:\n",
    "            diff = int(x) - randnum\n",
    "        chance -= 1\n",
    "        if chance == 0 and diff != 0:\n",
    "            print(\"Oopssss! Your Chance finished. You loss the Game. The answer is = %d\"%randnum)\n",
    "    else:\n",
    "        tryagain = input(\"Wana have a try again ?\")\n",
    "else:\n",
    "    print(\"Its fun wid U. See U soon :P\")"
   ]
  },
  {
   "cell_type": "code",
   "execution_count": null,
   "metadata": {
    "collapsed": true
   },
   "outputs": [],
   "source": []
  },
  {
   "cell_type": "code",
   "execution_count": null,
   "metadata": {
    "collapsed": true
   },
   "outputs": [],
   "source": []
  }
 ],
 "metadata": {
  "kernelspec": {
   "display_name": "Python 3",
   "language": "python",
   "name": "python3"
  },
  "language_info": {
   "codemirror_mode": {
    "name": "ipython",
    "version": 3
   },
   "file_extension": ".py",
   "mimetype": "text/x-python",
   "name": "python",
   "nbconvert_exporter": "python",
   "pygments_lexer": "ipython3",
   "version": "3.5.1"
  }
 },
 "nbformat": 4,
 "nbformat_minor": 0
}
