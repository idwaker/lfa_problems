{
 "cells": [
  {
   "cell_type": "code",
   "execution_count": 8,
   "metadata": {
    "collapsed": false
   },
   "outputs": [
    {
     "name": "stdout",
     "output_type": "stream",
     "text": [
      "Enter the divident : 4\n",
      "Enter the divisior : 0\n",
      "Division by Zero Error\n"
     ]
    }
   ],
   "source": [
    "x = input(\"Enter the divident : \")\n",
    "y = input(\"Enter the divisior : \")\n",
    "\n",
    "try:\n",
    "    x = int(x)\n",
    "    y = int(y)\n",
    "    a = None\n",
    "except ValueError:\n",
    "    try:\n",
    "        x = float(x)\n",
    "        y = float(y)\n",
    "    except:\n",
    "        print(\"error\")\n",
    "finally:\n",
    "    try:\n",
    "        a = x / y\n",
    "    except ZeroDivisionError:\n",
    "        print('Division by Zero Error')\n",
    "    else:\n",
    "        print(a)\n",
    "    \n",
    "    "
   ]
  },
  {
   "cell_type": "code",
   "execution_count": 13,
   "metadata": {
    "collapsed": false
   },
   "outputs": [
    {
     "name": "stdout",
     "output_type": "stream",
     "text": [
      "Enter the divident : 4\n",
      "Enter the divisior : 0\n",
      "Division by Zero Error\n",
      "None\n"
     ]
    }
   ],
   "source": [
    "x = input(\"Enter the divident : \")\n",
    "y = input(\"Enter the divisior : \")\n",
    "\n",
    "try:\n",
    "    x = float(x)\n",
    "    y = float(y)\n",
    "    a = None\n",
    "except:\n",
    "    print(\"error\")\n",
    "else:\n",
    "    try:\n",
    "        a = x / y\n",
    "    except ZeroDivisionError:\n",
    "        print('Division by Zero Error')\n",
    "finally:\n",
    "    print(a)\n",
    "    \n",
    "    "
   ]
  },
  {
   "cell_type": "code",
   "execution_count": null,
   "metadata": {
    "collapsed": true
   },
   "outputs": [],
   "source": []
  }
 ],
 "metadata": {
  "kernelspec": {
   "display_name": "Python 3",
   "language": "python",
   "name": "python3"
  },
  "language_info": {
   "codemirror_mode": {
    "name": "ipython",
    "version": 3
   },
   "file_extension": ".py",
   "mimetype": "text/x-python",
   "name": "python",
   "nbconvert_exporter": "python",
   "pygments_lexer": "ipython3",
   "version": "3.5.1"
  }
 },
 "nbformat": 4,
 "nbformat_minor": 0
}
