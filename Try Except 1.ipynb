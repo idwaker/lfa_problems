{
 "cells": [
  {
   "cell_type": "code",
   "execution_count": 1,
   "metadata": {
    "collapsed": false
   },
   "outputs": [
    {
     "name": "stdout",
     "output_type": "stream",
     "text": [
      "enter a number3\n",
      "3\n"
     ]
    }
   ],
   "source": [
    "x = input(\"enter a number\")\n",
    "print(x)"
   ]
  },
  {
   "cell_type": "code",
   "execution_count": 3,
   "metadata": {
    "collapsed": false
   },
   "outputs": [
    {
     "name": "stdout",
     "output_type": "stream",
     "text": [
      "Enter a number1\n",
      "Good work dude\n"
     ]
    }
   ],
   "source": [
    "x = input(\"Enter a number\")\n",
    "try:\n",
    "    xChk = int(x)\n",
    "except:\n",
    "    xChk = -1\n",
    "if(xChk > 0):\n",
    "    print(\"Good work dude\")\n",
    "else:\n",
    "    print(\"not a number\")"
   ]
  },
  {
   "cell_type": "code",
   "execution_count": 7,
   "metadata": {
    "collapsed": false
   },
   "outputs": [
    {
     "name": "stdout",
     "output_type": "stream",
     "text": [
      "Enter the divident : 45\n",
      "Enter a divisor : 0\n",
      "divisor couldnt be 0\n",
      "division finished\n"
     ]
    }
   ],
   "source": [
    "# division using try , except\n",
    "\n",
    "x = input(\"Enter the divident : \")\n",
    "y = input(\"Enter a divisor : \")\n",
    "\n",
    "\n",
    "try:\n",
    "    z = int(x)/int(y)\n",
    "except:\n",
    "    print(\"divisor couldnt be 0\")\n",
    "else:\n",
    "    print(z)\n",
    "finally:\n",
    "    print(\"division finished\")\n"
   ]
  },
  {
   "cell_type": "code",
   "execution_count": 12,
   "metadata": {
    "collapsed": false
   },
   "outputs": [
    {
     "name": "stdout",
     "output_type": "stream",
     "text": [
      "Enter the divident : 2.333\n",
      "Enter a divisor : 4\n",
      "division finished\n"
     ]
    },
    {
     "ename": "ValueError",
     "evalue": "invalid literal for int() with base 10: '2.333'",
     "output_type": "error",
     "traceback": [
      "\u001b[0;31m---------------------------------------------------------------------------\u001b[0m",
      "\u001b[0;31mValueError\u001b[0m                                Traceback (most recent call last)",
      "\u001b[0;32m<ipython-input-12-758f5baee3a9>\u001b[0m in \u001b[0;36m<module>\u001b[0;34m()\u001b[0m\n\u001b[1;32m      6\u001b[0m \u001b[0;34m\u001b[0m\u001b[0m\n\u001b[1;32m      7\u001b[0m \u001b[0;32mtry\u001b[0m\u001b[0;34m:\u001b[0m\u001b[0;34m\u001b[0m\u001b[0m\n\u001b[0;32m----> 8\u001b[0;31m     \u001b[0mz\u001b[0m \u001b[0;34m=\u001b[0m \u001b[0mint\u001b[0m\u001b[0;34m(\u001b[0m\u001b[0mx\u001b[0m\u001b[0;34m)\u001b[0m\u001b[0;34m/\u001b[0m\u001b[0mint\u001b[0m\u001b[0;34m(\u001b[0m\u001b[0my\u001b[0m\u001b[0;34m)\u001b[0m\u001b[0;34m\u001b[0m\u001b[0m\n\u001b[0m\u001b[1;32m      9\u001b[0m \u001b[0;32mexcept\u001b[0m \u001b[0mZeroDivisionError\u001b[0m\u001b[0;34m:\u001b[0m\u001b[0;34m\u001b[0m\u001b[0m\n\u001b[1;32m     10\u001b[0m     \u001b[0mprint\u001b[0m\u001b[0;34m(\u001b[0m\u001b[0;34m\"divisor couldnt be 0\"\u001b[0m\u001b[0;34m)\u001b[0m\u001b[0;34m\u001b[0m\u001b[0m\n",
      "\u001b[0;31mValueError\u001b[0m: invalid literal for int() with base 10: '2.333'"
     ]
    }
   ],
   "source": [
    "# division using try , except\n",
    "\n",
    "x = input(\"Enter the divident : \")\n",
    "y = input(\"Enter a divisor : \")\n",
    "\n",
    "\n",
    "try:\n",
    "    z = int(x) / int(y)\n",
    "except ZeroDivisionError:\n",
    "    print(\"divisor couldnt be 0\")\n",
    "else:\n",
    "    print(z)\n",
    "finally:\n",
    "    print(\"division finished\")\n"
   ]
  },
  {
   "cell_type": "code",
   "execution_count": 21,
   "metadata": {
    "collapsed": false
   },
   "outputs": [
    {
     "name": "stdout",
     "output_type": "stream",
     "text": [
      "Enter the divident : 4.4\n",
      "Enter a divisor : 4\n",
      "Here\n",
      "division finished\n"
     ]
    }
   ],
   "source": [
    "# division using try , except\n",
    "\n",
    "x = input(\"Enter the divident : \")\n",
    "y = input(\"Enter a divisor : \")\n",
    "\n",
    "\n",
    "try:\n",
    "    z = int(x) / int(y)\n",
    "except ZeroDivisionError:\n",
    "    print(\"divisor couldnt be 0\")\n",
    "except ValueError:\n",
    "    try:\n",
    "        print(\"Here\")\n",
    "        z = float(x) / float(y) \n",
    "    except:\n",
    "        print(\"dfdf\")\n",
    "else:\n",
    "    print(z)\n",
    "finally:\n",
    "    print(\"division finished\")\n"
   ]
  },
  {
   "cell_type": "code",
   "execution_count": 23,
   "metadata": {
    "collapsed": false
   },
   "outputs": [
    {
     "ename": "IndentationError",
     "evalue": "expected an indented block (<ipython-input-23-691da996892f>, line 18)",
     "output_type": "error",
     "traceback": [
      "\u001b[0;36m  File \u001b[0;32m\"<ipython-input-23-691da996892f>\"\u001b[0;36m, line \u001b[0;32m18\u001b[0m\n\u001b[0;31m    finally:\u001b[0m\n\u001b[0m          ^\u001b[0m\n\u001b[0;31mIndentationError\u001b[0m\u001b[0;31m:\u001b[0m expected an indented block\n"
     ]
    }
   ],
   "source": [
    "\n",
    "# division using try , except\n",
    "\n",
    "x = input(\"Enter the divident : \")\n",
    "y = input(\"Enter a divisor : \")\n",
    "\n",
    "\n",
    "try:\n",
    "    z = int(x) / int(y)\n",
    "\n",
    "except ValueError:\n",
    "    try:\n",
    "        print(\"Here\")\n",
    "        z = float(x) / float(y) \n",
    "    except:\n",
    "        print(\"dfdf\")\n",
    "except ZeroDivisionError:\n",
    "finally:\n",
    "    print(z)\n",
    "    print(\"division finished\")\n"
   ]
  },
  {
   "cell_type": "code",
   "execution_count": 24,
   "metadata": {
    "collapsed": false
   },
   "outputs": [
    {
     "ename": "SyntaxError",
     "evalue": "unexpected EOF while parsing (<ipython-input-24-c5d8e1c3b09f>, line 4)",
     "output_type": "error",
     "traceback": [
      "\u001b[0;36m  File \u001b[0;32m\"<ipython-input-24-c5d8e1c3b09f>\"\u001b[0;36m, line \u001b[0;32m4\u001b[0m\n\u001b[0;31m    try:\u001b[0m\n\u001b[0m        ^\u001b[0m\n\u001b[0;31mSyntaxError\u001b[0m\u001b[0;31m:\u001b[0m unexpected EOF while parsing\n"
     ]
    }
   ],
   "source": [
    "x = input(\"Enter the divident : \")\n",
    "y = input(\"Enter the divisior : \")\n",
    "\n",
    "try:"
   ]
  },
  {
   "cell_type": "code",
   "execution_count": 29,
   "metadata": {
    "collapsed": false
   },
   "outputs": [
    {
     "name": "stdout",
     "output_type": "stream",
     "text": [
      "Enter the divident : 23\n",
      "Enter the divisior : 32\n",
      "0.71875\n"
     ]
    }
   ],
   "source": [
    "x = input(\"Enter the divident : \")\n",
    "y = input(\"Enter the divisior : \")\n",
    "\n",
    "try:\n",
    "    x = int(x)\n",
    "    y = int(y)\n",
    "except ValueError:\n",
    "    try:\n",
    "        x = float(x)\n",
    "        y = float(y)\n",
    "    except:\n",
    "        print(\"error\")\n",
    "finally:\n",
    "    z = x/y\n",
    "    print(z)\n",
    "    "
   ]
  },
  {
   "cell_type": "code",
   "execution_count": 39,
   "metadata": {
    "collapsed": false
   },
   "outputs": [
    {
     "name": "stdout",
     "output_type": "stream",
     "text": [
      "Enter the divident : 5.5\n",
      "Enter the divisior : 8.8\n",
      "0.7142857142857143\n"
     ]
    }
   ],
   "source": [
    "x = input(\"Enter the divident : \")\n",
    "y = input(\"Enter the divisior : \")\n",
    "\n",
    "try:\n",
    "    x = int(x)\n",
    "    y = int(y)\n",
    "except ValueError:\n",
    "    try:\n",
    "        x = float(x)\n",
    "        y = float(y)\n",
    "    except:\n",
    "        print(\"error\")\n",
    "else:\n",
    "    z = x / y\n",
    "finally:\n",
    "    print(z)\n",
    "    "
   ]
  },
  {
   "cell_type": "code",
   "execution_count": null,
   "metadata": {
    "collapsed": true
   },
   "outputs": [],
   "source": [
    "x = input(\"Enter the divident : \")\n",
    "y = input(\"Enter the divisior : \")\n",
    "\n",
    "try:\n",
    "    x = int(x)\n",
    "    y = int(y)\n",
    "except ValueError:\n",
    "    try:\n",
    "        x = float(x)\n",
    "        y = float(y)\n",
    "    except:\n",
    "        print(\"error\")\n",
    "    else:\n",
    "        z = x / y\n",
    "except ZeroDivisionError\n",
    "finally:\n",
    "    z = x/y\n",
    "    print(z)\n",
    "    "
   ]
  }
 ],
 "metadata": {
  "kernelspec": {
   "display_name": "Python 3",
   "language": "python",
   "name": "python3"
  },
  "language_info": {
   "codemirror_mode": {
    "name": "ipython",
    "version": 3
   },
   "file_extension": ".py",
   "mimetype": "text/x-python",
   "name": "python",
   "nbconvert_exporter": "python",
   "pygments_lexer": "ipython3",
   "version": "3.5.1"
  }
 },
 "nbformat": 4,
 "nbformat_minor": 0
}
