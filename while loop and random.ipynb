{
 "cells": [
  {
   "cell_type": "code",
   "execution_count": null,
   "metadata": {
    "collapsed": false
   },
   "outputs": [],
   "source": [
    "a = 1\n",
    "while (a > 1)\n",
    "   b = input(\"enter a 'stop' to exit\")\n",
    "   if b == 'stop':\n",
    "        a +=1"
   ]
  },
  {
   "cell_type": "code",
   "execution_count": null,
   "metadata": {
    "collapsed": false
   },
   "outputs": [],
   "source": [
    "a = 0\n",
    "while a < 1:\n",
    "   b = input(\"enter 'stop' to exit\")\n",
    "   if b == 'stop':\n",
    "        a +=1\n",
    "else:\n",
    "    print(\"thanks God u saved me ! :P\")"
   ]
  },
  {
   "cell_type": "code",
   "execution_count": null,
   "metadata": {
    "collapsed": false
   },
   "outputs": [],
   "source": [
    "import random\n",
    "print(random.randrange(1,5,1))"
   ]
  },
  {
   "cell_type": "code",
   "execution_count": null,
   "metadata": {
    "collapsed": false
   },
   "outputs": [],
   "source": [
    "# randrange is like a <= N < b.\n",
    "# randint is like a <= N <= b.\n",
    "import random\n",
    "a = True\n",
    "while a:\n",
    "    print(random.randint(1,10))\n",
    "    b = input(\"press 'e' to exit\")\n",
    "    if b == 'e':\n",
    "        a = False\n",
    "else:\n",
    "    print(\"out of loop\")\n",
    "    "
   ]
  },
  {
   "cell_type": "code",
   "execution_count": null,
   "metadata": {
    "collapsed": true
   },
   "outputs": [],
   "source": [
    "# randrange is like a <= N < b.\n",
    "# randint is like a <= N <= b.\n",
    "import random\n",
    "a = True\n",
    "while a:\n",
    "    print(random.randrange(1,10,1))\n",
    "    b = input(\"press 'e' to exit\")\n",
    "    if b == 'e':\n",
    "        a = False\n",
    "else:\n",
    "    print(\"out of loop\")\n",
    "    "
   ]
  },
  {
   "cell_type": "code",
   "execution_count": 2,
   "metadata": {
    "collapsed": false
   },
   "outputs": [
    {
     "name": "stdout",
     "output_type": "stream",
     "text": [
      "10\n",
      "press 'e' to exit0\n",
      "4\n",
      "press 'e' to exit9\n",
      "3\n",
      "press 'e' to exit8\n",
      "10\n",
      "press 'e' to exit8\n",
      "6\n",
      "press 'e' to exit8\n",
      "1\n",
      "press 'e' to exit8\n",
      "10\n",
      "press 'e' to exit8\n",
      "3\n",
      "press 'e' to exit8\n",
      "9\n",
      "press 'e' to exit8\n",
      "7\n",
      "press 'e' to exit8\n",
      "8\n",
      "press 'e' to exit8\n",
      "10\n",
      "press 'e' to exit8\n",
      "1\n",
      "press 'e' to exit8\n",
      "3\n",
      "press 'e' to exit8\n",
      "5\n",
      "press 'e' to exit8\n",
      "5\n",
      "press 'e' to exit8\n",
      "10\n",
      "press 'e' to exitE\n",
      "2\n",
      "press 'e' to exite\n",
      "out of loop\n"
     ]
    }
   ],
   "source": [
    "# randrange is like a <= N < b.\n",
    "# randint is like a <= N <= b.\n",
    "import random\n",
    "a = True\n",
    "while a:\n",
    "    print(random.randint(1,10))\n",
    "    b = input(\"press 'e' to exit\")\n",
    "    if b == 'e':\n",
    "        a = False\n",
    "else:\n",
    "    print(\"out of loop\")"
   ]
  },
  {
   "cell_type": "code",
   "execution_count": null,
   "metadata": {
    "collapsed": true
   },
   "outputs": [],
   "source": []
  }
 ],
 "metadata": {
  "kernelspec": {
   "display_name": "Python 3",
   "language": "python",
   "name": "python3"
  },
  "language_info": {
   "codemirror_mode": {
    "name": "ipython",
    "version": 3
   },
   "file_extension": ".py",
   "mimetype": "text/x-python",
   "name": "python",
   "nbconvert_exporter": "python",
   "pygments_lexer": "ipython3",
   "version": "3.5.1"
  }
 },
 "nbformat": 4,
 "nbformat_minor": 0
}
