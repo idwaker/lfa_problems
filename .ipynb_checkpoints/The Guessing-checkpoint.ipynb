{
 "cells": [
  {
   "cell_type": "code",
   "execution_count": 3,
   "metadata": {
    "collapsed": false
   },
   "outputs": [
    {
     "ename": "UnboundLocalError",
     "evalue": "local variable 'chance' referenced before assignment",
     "output_type": "error",
     "traceback": [
      "\u001b[0;31m---------------------------------------------------------------------------\u001b[0m",
      "\u001b[0;31mUnboundLocalError\u001b[0m                         Traceback (most recent call last)",
      "\u001b[0;32m<ipython-input-3-83d047b5ace9>\u001b[0m in \u001b[0;36m<module>\u001b[0;34m()\u001b[0m\n\u001b[1;32m     30\u001b[0m \u001b[0;34m\u001b[0m\u001b[0m\n\u001b[1;32m     31\u001b[0m \u001b[0;32mwhile\u001b[0m \u001b[0mchance\u001b[0m \u001b[0;34m<\u001b[0m \u001b[0;36m5\u001b[0m\u001b[0;34m:\u001b[0m\u001b[0;34m\u001b[0m\u001b[0m\n\u001b[0;32m---> 32\u001b[0;31m     \u001b[0maskfor\u001b[0m\u001b[0;34m(\u001b[0m\u001b[0;34m)\u001b[0m\u001b[0;34m\u001b[0m\u001b[0m\n\u001b[0m\u001b[1;32m     33\u001b[0m \u001b[0;32melse\u001b[0m\u001b[0;34m:\u001b[0m\u001b[0;34m\u001b[0m\u001b[0m\n\u001b[1;32m     34\u001b[0m     \u001b[0mprint\u001b[0m\u001b[0;34m(\u001b[0m\u001b[0;34m\"Finished\"\u001b[0m\u001b[0;34m)\u001b[0m\u001b[0;34m\u001b[0m\u001b[0m\n",
      "\u001b[0;32m<ipython-input-3-83d047b5ace9>\u001b[0m in \u001b[0;36maskfor\u001b[0;34m()\u001b[0m\n\u001b[1;32m      7\u001b[0m \u001b[0;34m\u001b[0m\u001b[0m\n\u001b[1;32m      8\u001b[0m \u001b[0;32mdef\u001b[0m \u001b[0maskfor\u001b[0m\u001b[0;34m(\u001b[0m\u001b[0;34m)\u001b[0m\u001b[0;34m:\u001b[0m\u001b[0;34m\u001b[0m\u001b[0m\n\u001b[0;32m----> 9\u001b[0;31m     \u001b[0;32mif\u001b[0m \u001b[0mchance\u001b[0m \u001b[0;34m==\u001b[0m \u001b[0;36m0\u001b[0m\u001b[0;34m:\u001b[0m\u001b[0;34m\u001b[0m\u001b[0m\n\u001b[0m\u001b[1;32m     10\u001b[0m         \u001b[0mx\u001b[0m \u001b[0;34m=\u001b[0m \u001b[0minput\u001b[0m\u001b[0;34m(\u001b[0m\u001b[0;34m\"Guess a number between 1 to 10.\"\u001b[0m\u001b[0;34m)\u001b[0m\u001b[0;34m\u001b[0m\u001b[0m\n\u001b[1;32m     11\u001b[0m     \u001b[0;32melse\u001b[0m\u001b[0;34m:\u001b[0m\u001b[0;34m\u001b[0m\u001b[0m\n",
      "\u001b[0;31mUnboundLocalError\u001b[0m: local variable 'chance' referenced before assignment"
     ]
    }
   ],
   "source": [
    "import random\n",
    "\n",
    "chance = 0\n",
    "diff = None\n",
    "randnum = random.randint(1,10)\n",
    "\n",
    "\n",
    "def askfor():\n",
    "    if chance == 0:\n",
    "        x = input(\"Guess a number between 1 to 10.\")\n",
    "    else:\n",
    "        if diff == 0:\n",
    "            print(\"Congratulation you won.\")\n",
    "            chance == 4\n",
    "        elif diff <= 4:\n",
    "            x = input(\"Ummm you are near, go on have a guess again.\")\n",
    "        elif diff > 4:\n",
    "            x = input(\"Oh you are far this time, please have a guess again.\")\n",
    "            \n",
    "    \n",
    "    if randnum >= int(x):\n",
    "        diff = randnum - int(x)\n",
    "    else:\n",
    "        diff = int(x) - randnum\n",
    "        \n",
    "    chance += 1\n",
    "    \n",
    "        \n",
    "\n",
    "\n",
    "while chance < 5:\n",
    "    askfor()\n",
    "else:\n",
    "    print(\"Finished\")"
   ]
  },
  {
   "cell_type": "code",
   "execution_count": 12,
   "metadata": {
    "collapsed": false
   },
   "outputs": [
    {
     "name": "stdout",
     "output_type": "stream",
     "text": [
      "5\n",
      "Guess a number between 1 to 10.9\n",
      "Oh you are far this time, please have a guess again. 8\n",
      "Ummm you are near, go on have a guess again. 6\n",
      "Ummm you are near, go on have a guess again. 4\n",
      "Oopssss! Your Chance finished. You lost the Game.\n",
      "Wana have a try again\n"
     ]
    }
   ],
   "source": [
    "import random\n",
    "\n",
    "chance = 4\n",
    "diff = None\n",
    "randnum = random.randint(1,10)\n",
    "#print(randnum)\n",
    "while chance > 0:\n",
    "    if chance == 4:\n",
    "        x = input(\"Guess a number between 1 to 10.\")\n",
    "    else:\n",
    "        if diff == 0:\n",
    "            print(\"Congratulation you won.\")\n",
    "            chance == 0\n",
    "        elif diff < 4:\n",
    "            x = input(\"Ummm you are near, go on have a guess again. \")\n",
    "        elif diff >= 4:\n",
    "            x = input(\"Oh you are far this time, please have a guess again. \")\n",
    "    if randnum >= int(x):\n",
    "        diff = randnum - int(x)\n",
    "    else:\n",
    "        diff = int(x) - randnum\n",
    "    chance -= 1\n",
    "    if chance == 0 and diff != 0:\n",
    "        print(\"Oopssss! Your Chance finished. You lost the Game.\")\n",
    "else:\n",
    "    print(\"Wana have a try again\")"
   ]
  },
  {
   "cell_type": "code",
   "execution_count": null,
   "metadata": {
    "collapsed": true
   },
   "outputs": [],
   "source": []
  }
 ],
 "metadata": {
  "kernelspec": {
   "display_name": "Python 3",
   "language": "python",
   "name": "python3"
  },
  "language_info": {
   "codemirror_mode": {
    "name": "ipython",
    "version": 3
   },
   "file_extension": ".py",
   "mimetype": "text/x-python",
   "name": "python",
   "nbconvert_exporter": "python",
   "pygments_lexer": "ipython3",
   "version": "3.5.1"
  }
 },
 "nbformat": 4,
 "nbformat_minor": 0
}
