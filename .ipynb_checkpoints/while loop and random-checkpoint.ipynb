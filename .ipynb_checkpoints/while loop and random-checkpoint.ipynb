{
 "cells": [
  {
   "cell_type": "code",
   "execution_count": 1,
   "metadata": {
    "collapsed": false
   },
   "outputs": [
    {
     "ename": "SyntaxError",
     "evalue": "invalid syntax (<ipython-input-1-0369218ed668>, line 2)",
     "output_type": "error",
     "traceback": [
      "\u001b[0;36m  File \u001b[0;32m\"<ipython-input-1-0369218ed668>\"\u001b[0;36m, line \u001b[0;32m2\u001b[0m\n\u001b[0;31m    while (a > 1)\u001b[0m\n\u001b[0m                 ^\u001b[0m\n\u001b[0;31mSyntaxError\u001b[0m\u001b[0;31m:\u001b[0m invalid syntax\n"
     ]
    }
   ],
   "source": [
    "a = 1\n",
    "while (a > 1)\n",
    "   b = input(\"enter a 'stop' to exit\")\n",
    "   if b == 'stop':\n",
    "        a +=1"
   ]
  },
  {
   "cell_type": "code",
   "execution_count": 6,
   "metadata": {
    "collapsed": false
   },
   "outputs": [
    {
     "name": "stdout",
     "output_type": "stream",
     "text": [
      "enter 'stop' to exitd\n",
      "enter 'stop' to exitd\n",
      "enter 'stop' to exitd\n",
      "enter 'stop' to exitd3\n",
      "enter 'stop' to exitstop\n",
      "thanks God u saved me ! :P\n"
     ]
    }
   ],
   "source": [
    "a = 0\n",
    "while a < 1:\n",
    "   b = input(\"enter 'stop' to exit\")\n",
    "   if b == 'stop':\n",
    "        a +=1\n",
    "else:\n",
    "    print(\"thanks God u saved me ! :P\")"
   ]
  },
  {
   "cell_type": "code",
   "execution_count": 9,
   "metadata": {
    "collapsed": false
   },
   "outputs": [
    {
     "name": "stdout",
     "output_type": "stream",
     "text": [
      "4\n"
     ]
    }
   ],
   "source": [
    "import random\n",
    "print(random.randrange(1,5,1))"
   ]
  },
  {
   "cell_type": "code",
   "execution_count": null,
   "metadata": {
    "collapsed": false
   },
   "outputs": [
    {
     "name": "stdout",
     "output_type": "stream",
     "text": [
      "8\n",
      "press 'e' to exit\n",
      "6\n",
      "press 'e' to exit\n",
      "6\n",
      "press 'e' to exit\n",
      "8\n",
      "press 'e' to exit\n",
      "3\n",
      "press 'e' to exit\n",
      "2\n",
      "press 'e' to exit\n",
      "7\n",
      "press 'e' to exit\n",
      "10\n",
      "press 'e' to exit\n",
      "5\n",
      "press 'e' to exit\n",
      "5\n",
      "press 'e' to exit\n",
      "1\n",
      "press 'e' to exit\n",
      "1\n",
      "press 'e' to exit\n",
      "6\n",
      "press 'e' to exit\n",
      "6\n",
      "press 'e' to exit\n",
      "9\n",
      "press 'e' to exit\n",
      "3\n",
      "press 'e' to exit\n",
      "2\n"
     ]
    }
   ],
   "source": [
    "# randrange is like a <= N < b.\n",
    "# randint is like a <= N <= b.\n",
    "\n",
    "import random\n",
    "a = True\n",
    "while a:\n",
    "    print(random.randint(1,10))\n",
    "    b = input(\"press 'e' to exit\")\n",
    "    if b == 'e':\n",
    "        a = False\n",
    "else:\n",
    "    print(\"out of loop\")\n",
    "    "
   ]
  },
  {
   "cell_type": "code",
   "execution_count": null,
   "metadata": {
    "collapsed": true
   },
   "outputs": [],
   "source": []
  }
 ],
 "metadata": {
  "kernelspec": {
   "display_name": "Python 3",
   "language": "python",
   "name": "python3"
  },
  "language_info": {
   "codemirror_mode": {
    "name": "ipython",
    "version": 3
   },
   "file_extension": ".py",
   "mimetype": "text/x-python",
   "name": "python",
   "nbconvert_exporter": "python",
   "pygments_lexer": "ipython3",
   "version": "3.5.1"
  }
 },
 "nbformat": 4,
 "nbformat_minor": 0
}
